{
 "cells": [
  {
   "cell_type": "code",
   "execution_count": 3,
   "metadata": {},
   "outputs": [],
   "source": [
    "%run helpers.py"
   ]
  },
  {
   "cell_type": "code",
   "execution_count": 67,
   "metadata": {},
   "outputs": [
    {
     "name": "stdout",
     "output_type": "stream",
     "text": [
      "Requirement already satisfied: h5py in c:\\users\\quocv\\anaconda3\\lib\\site-packages (2.10.0)\n",
      "Requirement already satisfied: numpy>=1.7 in c:\\users\\quocv\\anaconda3\\lib\\site-packages (from h5py) (1.20.1)\n",
      "Requirement already satisfied: six in c:\\users\\quocv\\anaconda3\\lib\\site-packages (from h5py) (1.15.0)\n"
     ]
    }
   ],
   "source": [
    "import sys\n",
    "\n",
    "#for future export to external projects\n",
    "!{sys.executable} -m pip install h5py"
   ]
  },
  {
   "cell_type": "code",
   "execution_count": 4,
   "metadata": {
    "_cell_guid": "b1076dfc-b9ad-4769-8c92-a6c4dae69d19",
    "_uuid": "8f2839f25d086af736a60e9eeb907d3b93b6e0e5",
    "tags": []
   },
   "outputs": [
    {
     "name": "stdout",
     "output_type": "stream",
     "text": [
      "WARNING:tensorflow:From C:\\Users\\quocv\\Anaconda3\\lib\\site-packages\\tensorflow\\python\\compat\\v2_compat.py:96: disable_resource_variables (from tensorflow.python.ops.variable_scope) is deprecated and will be removed in a future version.\n",
      "Instructions for updating:\n",
      "non-resource variables are not supported in the long term\n"
     ]
    }
   ],
   "source": [
    "#Script to obtain data \n",
    "from helpers import * #maybe or maybe not used\n",
    "import numpy as np \n",
    "import pandas as pd \n",
    "import matplotlib.pyplot as plt\n",
    "import seaborn as sns\n",
    "import keras\n",
    "#Libraries to create the multiclass model\n",
    "from keras.models import Sequential\n",
    "from keras.layers import Dense\n",
    "from keras.wrappers.scikit_learn import KerasClassifier\n",
    "from keras.utils import np_utils\n",
    "#Import tensorflow and disable the v2 behavior and eager mode\n",
    "import tensorflow as tf\n",
    "tf.compat.v1.disable_eager_execution()\n",
    "tf.compat.v1.disable_v2_behavior()\n",
    "\n",
    "#Library to validate the model\n",
    "from sklearn.model_selection import cross_val_score, KFold, train_test_split\n",
    "from sklearn.ensemble import RandomForestClassifier\n",
    "from sklearn.preprocessing import LabelEncoder,MinMaxScaler\n",
    "from sklearn.pipeline import Pipeline\n",
    "from sklearn.metrics import confusion_matrix, accuracy_score, classification_report"
   ]
  },
  {
   "cell_type": "code",
   "execution_count": 5,
   "metadata": {},
   "outputs": [
    {
     "name": "stdout",
     "output_type": "stream",
     "text": [
      "1.2.4\n"
     ]
    }
   ],
   "source": [
    "print(pd.__version__)"
   ]
  },
  {
   "cell_type": "markdown",
   "metadata": {},
   "source": [
    "We import our large dataset of all happy, chill, and sad playlists"
   ]
  },
  {
   "cell_type": "code",
   "execution_count": 6,
   "metadata": {},
   "outputs": [],
   "source": [
    "df = pd.read_csv(\"data/data_moods.csv\")"
   ]
  },
  {
   "cell_type": "code",
   "execution_count": 7,
   "metadata": {},
   "outputs": [],
   "source": [
    "df.reset_index(drop=True)\n",
    "df.index = np.arange(1, len(df) + 1)"
   ]
  },
  {
   "cell_type": "code",
   "execution_count": 8,
   "metadata": {},
   "outputs": [
    {
     "data": {
      "text/html": [
       "<div>\n",
       "<style scoped>\n",
       "    .dataframe tbody tr th:only-of-type {\n",
       "        vertical-align: middle;\n",
       "    }\n",
       "\n",
       "    .dataframe tbody tr th {\n",
       "        vertical-align: top;\n",
       "    }\n",
       "\n",
       "    .dataframe thead th {\n",
       "        text-align: right;\n",
       "    }\n",
       "</style>\n",
       "<table border=\"1\" class=\"dataframe\">\n",
       "  <thead>\n",
       "    <tr style=\"text-align: right;\">\n",
       "      <th></th>\n",
       "      <th>name</th>\n",
       "      <th>album</th>\n",
       "      <th>artist</th>\n",
       "      <th>id</th>\n",
       "      <th>release_date</th>\n",
       "      <th>popularity</th>\n",
       "      <th>danceability</th>\n",
       "      <th>energy</th>\n",
       "      <th>valence</th>\n",
       "      <th>loudness</th>\n",
       "      <th>kmeans</th>\n",
       "    </tr>\n",
       "  </thead>\n",
       "  <tbody>\n",
       "    <tr>\n",
       "      <th>1</th>\n",
       "      <td>You're All I Want</td>\n",
       "      <td>You're All I Want</td>\n",
       "      <td>Cigarettes After Sex</td>\n",
       "      <td>4nvLuqwTOZdEJI1fcHXv8h</td>\n",
       "      <td>2020-05-26</td>\n",
       "      <td>69</td>\n",
       "      <td>0.233</td>\n",
       "      <td>0.4710</td>\n",
       "      <td>0.277</td>\n",
       "      <td>-10.947</td>\n",
       "      <td>chill</td>\n",
       "    </tr>\n",
       "    <tr>\n",
       "      <th>2</th>\n",
       "      <td>Tides</td>\n",
       "      <td>Tides</td>\n",
       "      <td>Bonobo</td>\n",
       "      <td>7rRYiBxeudiHMNmgptnne9</td>\n",
       "      <td>2021-10-20</td>\n",
       "      <td>66</td>\n",
       "      <td>0.600</td>\n",
       "      <td>0.3140</td>\n",
       "      <td>0.201</td>\n",
       "      <td>-9.109</td>\n",
       "      <td>chill</td>\n",
       "    </tr>\n",
       "    <tr>\n",
       "      <th>3</th>\n",
       "      <td>I’ll Keep You Safe</td>\n",
       "      <td>I’ll Keep You Safe</td>\n",
       "      <td>Vluestar</td>\n",
       "      <td>3YfNhioGntblm6ciPsCwC9</td>\n",
       "      <td>2018-05-08</td>\n",
       "      <td>73</td>\n",
       "      <td>0.540</td>\n",
       "      <td>0.3410</td>\n",
       "      <td>0.283</td>\n",
       "      <td>-10.399</td>\n",
       "      <td>chill</td>\n",
       "    </tr>\n",
       "    <tr>\n",
       "      <th>4</th>\n",
       "      <td>Water Theme</td>\n",
       "      <td>Winter Flower</td>\n",
       "      <td>Clams Casino</td>\n",
       "      <td>3teH1kAL5KrlUYosdt2nJI</td>\n",
       "      <td>2021-11-17</td>\n",
       "      <td>56</td>\n",
       "      <td>0.295</td>\n",
       "      <td>0.3570</td>\n",
       "      <td>0.352</td>\n",
       "      <td>-9.116</td>\n",
       "      <td>chill</td>\n",
       "    </tr>\n",
       "    <tr>\n",
       "      <th>5</th>\n",
       "      <td>I Need U</td>\n",
       "      <td>I Need U</td>\n",
       "      <td>yaeow</td>\n",
       "      <td>5lbdxt9C6rsELTimTkyMn8</td>\n",
       "      <td>2020-05-28</td>\n",
       "      <td>chill</td>\n",
       "      <td>0.402</td>\n",
       "      <td>0.4050</td>\n",
       "      <td>0.072</td>\n",
       "      <td>-12.486</td>\n",
       "      <td>chill</td>\n",
       "    </tr>\n",
       "    <tr>\n",
       "      <th>...</th>\n",
       "      <td>...</td>\n",
       "      <td>...</td>\n",
       "      <td>...</td>\n",
       "      <td>...</td>\n",
       "      <td>...</td>\n",
       "      <td>...</td>\n",
       "      <td>...</td>\n",
       "      <td>...</td>\n",
       "      <td>...</td>\n",
       "      <td>...</td>\n",
       "      <td>...</td>\n",
       "    </tr>\n",
       "    <tr>\n",
       "      <th>691</th>\n",
       "      <td>Hurt for Me</td>\n",
       "      <td>Hurt for Me</td>\n",
       "      <td>SYML</td>\n",
       "      <td>34ngvjIBKbCL9ECqIhbxaZ</td>\n",
       "      <td>2016-09-09</td>\n",
       "      <td>53</td>\n",
       "      <td>0.548</td>\n",
       "      <td>0.0460</td>\n",
       "      <td>0.176</td>\n",
       "      <td>-17.929</td>\n",
       "      <td>sad</td>\n",
       "    </tr>\n",
       "    <tr>\n",
       "      <th>692</th>\n",
       "      <td>I Can't Carry This Anymore</td>\n",
       "      <td>I Can't Carry This Anymore</td>\n",
       "      <td>Anson Seabra</td>\n",
       "      <td>1NNnmmBEaId0uoWfvtNd8F</td>\n",
       "      <td>2019-01-11</td>\n",
       "      <td>1</td>\n",
       "      <td>0.451</td>\n",
       "      <td>0.0873</td>\n",
       "      <td>0.456</td>\n",
       "      <td>-16.815</td>\n",
       "      <td>sad</td>\n",
       "    </tr>\n",
       "    <tr>\n",
       "      <th>693</th>\n",
       "      <td>Sinking Ship</td>\n",
       "      <td>Expectations</td>\n",
       "      <td>Wild Child</td>\n",
       "      <td>7orUPsozJ19Cyxv5ozoREr</td>\n",
       "      <td>2018-02-09</td>\n",
       "      <td>38</td>\n",
       "      <td>0.555</td>\n",
       "      <td>0.1810</td>\n",
       "      <td>0.182</td>\n",
       "      <td>-19.296</td>\n",
       "      <td>sad</td>\n",
       "    </tr>\n",
       "    <tr>\n",
       "      <th>694</th>\n",
       "      <td>Shadow</td>\n",
       "      <td>Shadow</td>\n",
       "      <td>Jimmy Levy</td>\n",
       "      <td>5heMraZsTO2tPCsdeoKCXE</td>\n",
       "      <td>2018-12-07</td>\n",
       "      <td>50</td>\n",
       "      <td>0.509</td>\n",
       "      <td>0.1580</td>\n",
       "      <td>0.327</td>\n",
       "      <td>-16.141</td>\n",
       "      <td>sad</td>\n",
       "    </tr>\n",
       "    <tr>\n",
       "      <th>695</th>\n",
       "      <td>Beautiful Birds - Acoustic</td>\n",
       "      <td>Young as the Morning Old as the Sea (Deluxe Ed...</td>\n",
       "      <td>Passenger</td>\n",
       "      <td>0LenfZSOzFiUB6sLmbB8pS</td>\n",
       "      <td>2016-09-23</td>\n",
       "      <td>0</td>\n",
       "      <td>0.567</td>\n",
       "      <td>0.1280</td>\n",
       "      <td>0.300</td>\n",
       "      <td>-17.313</td>\n",
       "      <td>sad</td>\n",
       "    </tr>\n",
       "  </tbody>\n",
       "</table>\n",
       "<p>695 rows × 11 columns</p>\n",
       "</div>"
      ],
      "text/plain": [
       "                           name  \\\n",
       "1             You're All I Want   \n",
       "2                         Tides   \n",
       "3            I’ll Keep You Safe   \n",
       "4                   Water Theme   \n",
       "5                      I Need U   \n",
       "..                          ...   \n",
       "691                 Hurt for Me   \n",
       "692  I Can't Carry This Anymore   \n",
       "693                Sinking Ship   \n",
       "694                      Shadow   \n",
       "695  Beautiful Birds - Acoustic   \n",
       "\n",
       "                                                 album                artist  \\\n",
       "1                                    You're All I Want  Cigarettes After Sex   \n",
       "2                                                Tides                Bonobo   \n",
       "3                                   I’ll Keep You Safe              Vluestar   \n",
       "4                                        Winter Flower          Clams Casino   \n",
       "5                                             I Need U                 yaeow   \n",
       "..                                                 ...                   ...   \n",
       "691                                        Hurt for Me                  SYML   \n",
       "692                         I Can't Carry This Anymore          Anson Seabra   \n",
       "693                                       Expectations            Wild Child   \n",
       "694                                             Shadow            Jimmy Levy   \n",
       "695  Young as the Morning Old as the Sea (Deluxe Ed...             Passenger   \n",
       "\n",
       "                         id release_date popularity  danceability  energy  \\\n",
       "1    4nvLuqwTOZdEJI1fcHXv8h   2020-05-26         69         0.233  0.4710   \n",
       "2    7rRYiBxeudiHMNmgptnne9   2021-10-20         66         0.600  0.3140   \n",
       "3    3YfNhioGntblm6ciPsCwC9   2018-05-08         73         0.540  0.3410   \n",
       "4    3teH1kAL5KrlUYosdt2nJI   2021-11-17         56         0.295  0.3570   \n",
       "5    5lbdxt9C6rsELTimTkyMn8   2020-05-28      chill         0.402  0.4050   \n",
       "..                      ...          ...        ...           ...     ...   \n",
       "691  34ngvjIBKbCL9ECqIhbxaZ   2016-09-09         53         0.548  0.0460   \n",
       "692  1NNnmmBEaId0uoWfvtNd8F   2019-01-11          1         0.451  0.0873   \n",
       "693  7orUPsozJ19Cyxv5ozoREr   2018-02-09         38         0.555  0.1810   \n",
       "694  5heMraZsTO2tPCsdeoKCXE   2018-12-07         50         0.509  0.1580   \n",
       "695  0LenfZSOzFiUB6sLmbB8pS   2016-09-23          0         0.567  0.1280   \n",
       "\n",
       "     valence  loudness kmeans  \n",
       "1      0.277   -10.947  chill  \n",
       "2      0.201    -9.109  chill  \n",
       "3      0.283   -10.399  chill  \n",
       "4      0.352    -9.116  chill  \n",
       "5      0.072   -12.486  chill  \n",
       "..       ...       ...    ...  \n",
       "691    0.176   -17.929    sad  \n",
       "692    0.456   -16.815    sad  \n",
       "693    0.182   -19.296    sad  \n",
       "694    0.327   -16.141    sad  \n",
       "695    0.300   -17.313    sad  \n",
       "\n",
       "[695 rows x 11 columns]"
      ]
     },
     "execution_count": 8,
     "metadata": {},
     "output_type": "execute_result"
    }
   ],
   "source": [
    "df"
   ]
  },
  {
   "cell_type": "markdown",
   "metadata": {},
   "source": [
    "We pull out the neccessary column features that can affect our audio signatures in classifying the mood of the songs. \n",
    "We then use MinMaxScaler to scale our data values between 0s and 1s."
   ]
  },
  {
   "cell_type": "code",
   "execution_count": 9,
   "metadata": {},
   "outputs": [],
   "source": [
    "col_features = df.columns[6:-1]"
   ]
  },
  {
   "cell_type": "code",
   "execution_count": 10,
   "metadata": {},
   "outputs": [
    {
     "data": {
      "text/plain": [
       "Index(['danceability', 'energy', 'valence', 'loudness'], dtype='object')"
      ]
     },
     "execution_count": 10,
     "metadata": {},
     "output_type": "execute_result"
    }
   ],
   "source": [
    "col_features"
   ]
  },
  {
   "cell_type": "code",
   "execution_count": 11,
   "metadata": {},
   "outputs": [],
   "source": [
    "# col_features = df.columns[['danceability', 'valence', 'loudness']]\n",
    "X= MinMaxScaler().fit_transform(df[col_features])\n",
    "X2 = np.array(df[col_features])\n",
    "Y = df['kmeans']"
   ]
  },
  {
   "cell_type": "code",
   "execution_count": 12,
   "metadata": {},
   "outputs": [
    {
     "data": {
      "text/plain": [
       "array([[  0.233,   0.471,   0.277, -10.947],\n",
       "       [  0.6  ,   0.314,   0.201,  -9.109],\n",
       "       [  0.54 ,   0.341,   0.283, -10.399],\n",
       "       ...,\n",
       "       [  0.555,   0.181,   0.182, -19.296],\n",
       "       [  0.509,   0.158,   0.327, -16.141],\n",
       "       [  0.567,   0.128,   0.3  , -17.313]])"
      ]
     },
     "execution_count": 12,
     "metadata": {},
     "output_type": "execute_result"
    }
   ],
   "source": [
    "X2"
   ]
  },
  {
   "cell_type": "markdown",
   "metadata": {},
   "source": [
    "We then encode the categories that we want to predict, which are happy, chill, sad."
   ]
  },
  {
   "cell_type": "code",
   "execution_count": 13,
   "metadata": {},
   "outputs": [],
   "source": [
    "#Encode the categories\n",
    "encoder = LabelEncoder()\n",
    "encoder.fit(Y)\n",
    "encoded_y = encoder.transform(Y)"
   ]
  },
  {
   "cell_type": "code",
   "execution_count": 14,
   "metadata": {},
   "outputs": [
    {
     "data": {
      "text/plain": [
       "array([0, 0, 0, 0, 0, 0, 0, 0, 0, 0, 0, 0, 0, 0, 0, 0, 0, 0, 0, 0, 0, 0,\n",
       "       0, 0, 0, 0, 0, 0, 0, 0, 0, 0, 0, 0, 0, 0, 0, 0, 0, 0, 0, 0, 0, 0,\n",
       "       0, 0, 0, 0, 0, 0, 0, 0, 0, 0, 0, 0, 0, 0, 0, 0, 0, 0, 0, 0, 0, 0,\n",
       "       0, 0, 0, 0, 0, 0, 0, 0, 0, 0, 0, 0, 0, 0, 0, 0, 0, 0, 0, 0, 0, 0,\n",
       "       0, 0, 0, 0, 0, 0, 0, 0, 0, 0, 0, 0, 0, 0, 0, 0, 0, 0, 0, 0, 0, 0,\n",
       "       0, 0, 0, 0, 0, 0, 0, 0, 0, 0, 0, 0, 0, 0, 0, 0, 0, 0, 0, 0, 0, 0,\n",
       "       0, 0, 0, 0, 0, 0, 0, 0, 0, 0, 0, 0, 0, 0, 0, 0, 0, 0, 0, 0, 0, 0,\n",
       "       0, 0, 0, 0, 0, 0, 0, 0, 0, 0, 0, 0, 0, 0, 0, 0, 0, 0, 0, 0, 0, 0,\n",
       "       0, 0, 0, 0, 0, 0, 0, 0, 0, 0, 0, 0, 0, 0, 0, 0, 0, 0, 0, 0, 0, 0,\n",
       "       0, 0, 0, 0, 0, 0, 0, 0, 0, 0, 0, 0, 0, 0, 0, 0, 0, 0, 0, 0, 0, 0,\n",
       "       0, 0, 0, 0, 0, 0, 0, 0, 0, 0, 0, 0, 0, 0, 0, 0, 0, 0, 0, 0, 0, 0,\n",
       "       0, 0, 0, 0, 0, 0, 0, 0, 0, 0, 0, 0, 0, 0, 0, 0, 0, 0, 0, 0, 0, 0,\n",
       "       0, 0, 0, 0, 0, 0, 0, 0, 0, 0, 0, 0, 0, 0, 0, 0, 0, 0, 0, 0, 0, 0,\n",
       "       0, 0, 0, 0, 0, 0, 0, 0, 0, 0, 0, 0, 0, 0, 0, 0, 0, 0, 0, 0, 0, 0,\n",
       "       0, 0, 0, 0, 0, 0, 0, 0, 0, 0, 0, 0, 0, 0, 0, 0, 0, 0, 0, 0, 0, 0,\n",
       "       0, 0, 0, 0, 0, 0, 0, 0, 0, 0, 0, 0, 0, 0, 0, 0, 0, 0, 0, 0, 0, 0,\n",
       "       0, 1, 1, 1, 1, 1, 1, 1, 1, 1, 1, 1, 1, 1, 1, 1, 1, 1, 1, 1, 1, 1,\n",
       "       1, 1, 1, 1, 1, 1, 1, 1, 1, 1, 1, 1, 1, 1, 1, 1, 1, 1, 1, 1, 1, 1,\n",
       "       1, 1, 1, 1, 1, 1, 1, 1, 1, 1, 1, 1, 1, 1, 1, 1, 1, 1, 1, 1, 1, 1,\n",
       "       1, 1, 1, 1, 1, 1, 1, 1, 1, 1, 1, 1, 1, 1, 1, 1, 1, 1, 1, 1, 1, 1,\n",
       "       1, 1, 1, 1, 1, 1, 1, 1, 1, 1, 1, 1, 1, 1, 1, 1, 1, 1, 1, 1, 1, 1,\n",
       "       1, 1, 1, 1, 1, 1, 1, 1, 1, 1, 1, 1, 1, 1, 1, 1, 1, 1, 1, 1, 1, 1,\n",
       "       1, 1, 1, 1, 1, 1, 1, 1, 1, 1, 1, 1, 1, 1, 1, 1, 1, 1, 1, 1, 1, 1,\n",
       "       1, 1, 1, 1, 1, 1, 1, 1, 1, 1, 1, 1, 1, 1, 1, 1, 1, 1, 1, 1, 1, 1,\n",
       "       1, 1, 1, 1, 1, 1, 1, 1, 1, 1, 1, 1, 1, 1, 1, 1, 1, 1, 1, 1, 1, 1,\n",
       "       1, 1, 1, 1, 1, 1, 1, 1, 1, 1, 1, 1, 1, 1, 1, 1, 1, 1, 1, 1, 1, 1,\n",
       "       1, 1, 1, 1, 1, 1, 1, 1, 1, 1, 1, 1, 1, 1, 1, 1, 1, 1, 1, 1, 1, 1,\n",
       "       1, 1, 1, 1, 1, 1, 1, 1, 1, 1, 1, 1, 1, 1, 1, 1, 1, 1, 1, 1, 1, 1,\n",
       "       1, 2, 2, 2, 2, 2, 2, 2, 2, 2, 2, 2, 2, 2, 2, 2, 2, 2, 2, 2, 2, 2,\n",
       "       2, 2, 2, 2, 2, 2, 2, 2, 2, 2, 2, 2, 2, 2, 2, 2, 2, 2, 2, 2, 2, 2,\n",
       "       2, 2, 2, 2, 2, 2, 2, 2, 2, 2, 2, 2, 2, 2, 2, 2, 2, 2, 2, 2, 2, 2,\n",
       "       2, 2, 2, 2, 2, 2, 2, 2, 2, 2, 2, 2, 2])"
      ]
     },
     "execution_count": 14,
     "metadata": {},
     "output_type": "execute_result"
    }
   ],
   "source": [
    "encoded_y"
   ]
  },
  {
   "cell_type": "code",
   "execution_count": 15,
   "metadata": {},
   "outputs": [
    {
     "name": "stdout",
     "output_type": "stream",
     "text": [
      "451\n",
      "451\n"
     ]
    },
    {
     "data": {
      "text/html": [
       "<div>\n",
       "<style scoped>\n",
       "    .dataframe tbody tr th:only-of-type {\n",
       "        vertical-align: middle;\n",
       "    }\n",
       "\n",
       "    .dataframe tbody tr th {\n",
       "        vertical-align: top;\n",
       "    }\n",
       "\n",
       "    .dataframe thead th {\n",
       "        text-align: right;\n",
       "    }\n",
       "</style>\n",
       "<table border=\"1\" class=\"dataframe\">\n",
       "  <thead>\n",
       "    <tr style=\"text-align: right;\">\n",
       "      <th></th>\n",
       "      <th>kmeans</th>\n",
       "      <th>encode</th>\n",
       "    </tr>\n",
       "  </thead>\n",
       "  <tbody>\n",
       "    <tr>\n",
       "      <th>0</th>\n",
       "      <td>chill</td>\n",
       "      <td>0</td>\n",
       "    </tr>\n",
       "    <tr>\n",
       "      <th>353</th>\n",
       "      <td>happy</td>\n",
       "      <td>1</td>\n",
       "    </tr>\n",
       "    <tr>\n",
       "      <th>617</th>\n",
       "      <td>sad</td>\n",
       "      <td>2</td>\n",
       "    </tr>\n",
       "  </tbody>\n",
       "</table>\n",
       "</div>"
      ],
      "text/plain": [
       "    kmeans  encode\n",
       "0    chill       0\n",
       "353  happy       1\n",
       "617    sad       2"
      ]
     },
     "execution_count": 15,
     "metadata": {},
     "output_type": "execute_result"
    }
   ],
   "source": [
    "#Convert to  dummy (Not necessary in my case)\n",
    "dummy_y = np_utils.to_categorical(encoded_y)\n",
    "\n",
    "X_train,X_test,Y_train,Y_test = train_test_split(X,encoded_y,test_size=0.35,random_state=30)\n",
    "print(len(X_train))\n",
    "print(len(Y_train))\n",
    "target = pd.DataFrame({'kmeans':df['kmeans'].tolist(),'encode':encoded_y}).drop_duplicates().sort_values(['encode'],ascending=True)\n",
    "target"
   ]
  },
  {
   "cell_type": "markdown",
   "metadata": {},
   "source": [
    "We run the RandomForestClassifer to create a confusion matrix for predicting genres"
   ]
  },
  {
   "cell_type": "code",
   "execution_count": 16,
   "metadata": {},
   "outputs": [
    {
     "name": "stdout",
     "output_type": "stream",
     "text": [
      "[[122   5   1]\n",
      " [  6  86   0]\n",
      " [  0   0  24]]\n",
      "              precision    recall  f1-score   support\n",
      "\n",
      "           0       0.95      0.95      0.95       128\n",
      "           1       0.95      0.93      0.94        92\n",
      "           2       0.96      1.00      0.98        24\n",
      "\n",
      "    accuracy                           0.95       244\n",
      "   macro avg       0.95      0.96      0.96       244\n",
      "weighted avg       0.95      0.95      0.95       244\n",
      "\n"
     ]
    }
   ],
   "source": [
    "model = RandomForestClassifier(n_estimators=300).fit(X_train,Y_train)\n",
    "predictionforest = model.predict(X_test)\n",
    "print(confusion_matrix(Y_test,predictionforest))\n",
    "print(classification_report(Y_test,predictionforest))"
   ]
  },
  {
   "cell_type": "markdown",
   "metadata": {},
   "source": [
    "We can see that this model gives us an average of 93-95% accuracy in predicting the song's mood."
   ]
  },
  {
   "cell_type": "code",
   "execution_count": 17,
   "metadata": {},
   "outputs": [],
   "source": [
    "def base_model():\n",
    "    #Create the model\n",
    "    model = Sequential()\n",
    "    #Add 1 layer with 8 nodes,input of 4 dim with relu function\n",
    "    model.add(Dense(8,input_dim=4,activation='relu'))\n",
    "    #Add 1 layer with output 3 and softmax function\n",
    "    model.add(Dense(3,activation='softmax'))\n",
    "    #Compile the model using sigmoid loss function and adam optim\n",
    "    model.compile(optimizer='adam', loss='categorical_crossentropy',\n",
    "                 metrics=['accuracy'])\n",
    "    return model"
   ]
  },
  {
   "cell_type": "code",
   "execution_count": 18,
   "metadata": {},
   "outputs": [],
   "source": [
    "test_model = base_model()"
   ]
  },
  {
   "cell_type": "code",
   "execution_count": 19,
   "metadata": {},
   "outputs": [],
   "source": [
    "#Configure the model\n",
    "estimator = KerasClassifier(build_fn=base_model,epochs=300,batch_size=200,verbose=0)"
   ]
  },
  {
   "cell_type": "code",
   "execution_count": 20,
   "metadata": {
    "tags": []
   },
   "outputs": [
    {
     "name": "stdout",
     "output_type": "stream",
     "text": [
      "WARNING:tensorflow:From C:\\Users\\quocv\\Anaconda3\\lib\\site-packages\\tensorflow\\python\\keras\\engine\\training_v1.py:2048: Model.state_updates (from tensorflow.python.keras.engine.training) is deprecated and will be removed in a future version.\n",
      "Instructions for updating:\n",
      "This property should not be used in TensorFlow 2.0, as updates are applied automatically.\n",
      "Baseline: 89.78% (5.22%)\n"
     ]
    }
   ],
   "source": [
    "#Evaluate the model using KFold cross validation\n",
    "kfold = KFold(n_splits=10,shuffle=True)\n",
    "results = cross_val_score(estimator,X,encoded_y,cv=kfold)\n",
    "print(\"Baseline: %.2f%% (%.2f%%)\" % (results.mean()*100,results.std()*100))"
   ]
  },
  {
   "cell_type": "code",
   "execution_count": 21,
   "metadata": {
    "tags": []
   },
   "outputs": [
    {
     "name": "stdout",
     "output_type": "stream",
     "text": [
      "WARNING:tensorflow:From C:\\Users\\quocv\\Anaconda3\\lib\\site-packages\\tensorflow\\python\\keras\\wrappers\\scikit_learn.py:241: Sequential.predict_classes (from tensorflow.python.keras.engine.sequential) is deprecated and will be removed after 2021-01-01.\n",
      "Instructions for updating:\n",
      "Please use instead:* `np.argmax(model.predict(x), axis=-1)`,   if your model does multi-class classification   (e.g. if it uses a `softmax` last-layer activation).* `(model.predict(x) > 0.5).astype(\"int32\")`,   if your model does binary classification   (e.g. if it uses a `sigmoid` last-layer activation).\n"
     ]
    }
   ],
   "source": [
    "estimator.fit(X_train,Y_train)\n",
    "y_preds = estimator.predict(X_test)"
   ]
  },
  {
   "cell_type": "code",
   "execution_count": 22,
   "metadata": {},
   "outputs": [
    {
     "name": "stdout",
     "output_type": "stream",
     "text": [
      "244\n",
      "244\n",
      "[1 1 0 1 0 0 0 0 0 0 0 0 0 0 1 0 0 1 0 0 1 1 1 1 1 1 0 1 0 0 1 0 0 1 0 1 0\n",
      " 0 0 0 0 0 0 0 0 0 1 1 1 0 0 0 0 0 0 1 1 1 0 1 0 1 1 0 1 0 0 0 1 1 0 1 0 1\n",
      " 1 1 0 1 1 1 0 0 0 0 0 0 1 0 1 1 0 0 1 0 1 0 0 0 0 0 0 0 1 0 0 1 0 0 0 1 1\n",
      " 0 1 0 0 1 0 0 1 1 0 0 0 1 0 0 0 0 0 0 0 1 0 0 0 0 0 1 0 0 0 0 0 1 0 0 0 0\n",
      " 1 0 0 1 1 1 1 0 0 1 1 1 1 1 0 0 0 1 0 0 0 0 0 0 1 0 0 0 0 1 0 0 1 0 0 0 0\n",
      " 0 1 0 0 1 1 0 1 0 1 0 0 0 0 1 1 1 1 1 1 0 0 0 0 0 0 0 0 0 0 1 0 0 0 0 0 0\n",
      " 1 0 0 1 0 0 1 0 0 0 0 1 0 1 1 0 0 0 0 0 1 0]\n",
      "[1 1 0 1 2 0 0 1 1 2 0 0 0 2 1 2 0 1 0 0 1 1 1 1 1 1 0 1 0 0 1 0 0 1 0 1 0\n",
      " 0 0 0 0 0 2 0 0 0 1 1 1 0 0 0 0 2 0 1 1 1 1 1 1 1 1 0 1 0 0 2 1 1 0 1 2 1\n",
      " 1 1 0 1 0 1 0 0 0 0 2 2 1 2 1 1 2 0 0 1 1 0 0 0 0 0 0 0 1 2 0 1 0 0 2 1 1\n",
      " 0 1 1 2 1 0 0 1 1 0 0 0 1 0 0 0 0 0 0 0 1 0 2 0 0 0 1 0 0 0 0 0 1 0 0 0 0\n",
      " 1 0 0 1 1 1 1 0 0 1 1 1 1 1 2 0 2 1 0 0 0 0 0 0 1 0 0 2 0 1 0 0 1 0 0 0 0\n",
      " 1 1 0 1 1 1 1 1 0 1 0 0 0 0 1 1 1 1 1 1 1 0 2 0 1 0 0 0 0 0 1 0 2 2 0 0 0\n",
      " 0 0 0 0 0 1 1 0 0 0 0 1 0 1 1 0 2 0 2 0 1 0]\n"
     ]
    }
   ],
   "source": [
    "print(len(Y_test))\n",
    "print(len(y_preds))\n",
    "print(y_preds)\n",
    "print(Y_test)"
   ]
  },
  {
   "cell_type": "code",
   "execution_count": 23,
   "metadata": {
    "tags": []
   },
   "outputs": [
    {
     "data": {
      "image/png": "[encoded data removed]",
      "text/plain": [
       "<Figure size 432x288 with 2 Axes>"
      ]
     },
     "metadata": {
      "needs_background": "light"
     },
     "output_type": "display_data"
    },
    {
     "name": "stdout",
     "output_type": "stream",
     "text": [
      "Accuracy Score 0.8360655737704918\n"
     ]
    }
   ],
   "source": [
    "cm = confusion_matrix(Y_test,y_preds)\n",
    "ax = plt.subplot()\n",
    "sns.heatmap(cm,annot=True,ax=ax)\n",
    "\n",
    "labels = target['kmeans']\n",
    "ax.set_xlabel('Predicted labels')\n",
    "ax.set_ylabel('True labels')\n",
    "ax.set_title('Confusion Matrix')\n",
    "ax.xaxis.set_ticklabels(labels)\n",
    "ax.yaxis.set_ticklabels(labels)\n",
    "plt.show()\n",
    "\n",
    "print(\"Accuracy Score\",accuracy_score(Y_test,y_preds))"
   ]
  },
  {
   "cell_type": "markdown",
   "metadata": {},
   "source": [
    "The confusion matrix from Sequential method from Tensorflow gives us an accuracy of 83%"
   ]
  },
  {
   "cell_type": "markdown",
   "metadata": {},
   "source": [
    "Function to predict song"
   ]
  },
  {
   "cell_type": "code",
   "execution_count": 50,
   "metadata": {},
   "outputs": [],
   "source": [
    "#Don't really understand this\n",
    "def predict_mood(id_song):\n",
    "    #Join the model and the scaler in a Pipeline\n",
    "    pip = Pipeline([('minmaxscaler',MinMaxScaler()),('keras',KerasClassifier(build_fn=base_model,epochs=300,\n",
    "                                                                                 batch_size=200,verbose=0))])\n",
    "        #Fit the Pipeline\n",
    "    pip.fit(X2,encoded_y)\n",
    "    \n",
    "        #Obtain the features of the song\n",
    "\n",
    "    preds = get_songs_features(id_song)\n",
    "#     print(\"preds \" + str(preds))\n",
    "\n",
    "    get_required = get_song_signatures(id_song)[0]\n",
    "    get_required\n",
    "\n",
    "        #Pre-process the features to input the Model\n",
    "    preds_features = np.array(get_required[7:]).reshape(1,-1)\n",
    "    print(\"features \" + str(preds_features))\n",
    "\n",
    "        #Predict the features of the song\n",
    "    results = pip.predict(preds_features)\n",
    "\n",
    "    print(\"results \" + str(results))\n",
    "    mood = np.array(target['kmeans'][target['encode']==int(results)])\n",
    "    name_song = preds[0][0]\n",
    "    artist = preds[0][2]\n",
    "\n",
    "    return print(\"{0} by {1} is a {2} song\".format(name_song,artist,mood[0].upper()))\n",
    "#     print(f\"{name_song} by {artist} is a {mood[0].upper()} song\")\n",
    "    \n",
    "    \n",
    "\n"
   ]
  },
  {
   "cell_type": "code",
   "execution_count": 51,
   "metadata": {},
   "outputs": [],
   "source": [
    "def predict_mood_clf(id_song):\n",
    "    #Join the model and the scaler in a Pipeline\n",
    "    pip = Pipeline([('minmaxscaler',MinMaxScaler()),('clf',RandomForestClassifier(max_depth=3, random_state = 0))])\n",
    "        #Fit the Pipeline\n",
    "    pip.fit(X2,encoded_y)\n",
    "    \n",
    "        #Obtain the features of the song\n",
    "\n",
    "    preds = get_songs_features(id_song)\n",
    "#     print(\"preds \" + str(preds))\n",
    "\n",
    "    get_required = get_song_signatures(id_song)[0]\n",
    "    get_required\n",
    "\n",
    "        #Pre-process the features to input the Model\n",
    "    preds_features = np.array(get_required[7:]).reshape(1,-1)\n",
    "    print(\"features \" + str(preds_features))\n",
    "\n",
    "        #Predict the features of the song\n",
    "    results = pip.predict(preds_features)\n",
    "    print(\"results \" + str(results))\n",
    "    mood = np.array(target['kmeans'][target['encode']==int(results)])\n",
    "    name_song = preds[0][0]\n",
    "    artist = preds[0][2]\n",
    "\n",
    "    return print(\"{0} by {1} is a {2} song\".format(name_song,artist,mood[0].upper()))\n",
    "#     print(f\"{name_song} by {artist} is a {mood[0].upper()} song\")"
   ]
  },
  {
   "cell_type": "markdown",
   "metadata": {},
   "source": [
    "Some sample songs you can try out"
   ]
  },
  {
   "cell_type": "code",
   "execution_count": 52,
   "metadata": {},
   "outputs": [],
   "source": [
    "chill = '2YwDDVHflNhUKgu70WR7OH' #Queen of Paisley by Silas Short\n",
    "sad = '2Djv53hoQWobBuNHkSKpXC' #Some kind of jazzy sad piano melody\n",
    "happy = '3xKsf9qdS1CyvXSMEid6g8' #Pink+White by Frank Ocean"
   ]
  },
  {
   "cell_type": "code",
   "execution_count": 53,
   "metadata": {
    "tags": []
   },
   "outputs": [
    {
     "name": "stdout",
     "output_type": "stream",
     "text": [
      "features [[  0.567   0.263   0.247 -13.51 ]]\n",
      "results [0]\n",
      "A Song About Being Sad by Rex Orange County is a CHILL song\n",
      "None\n",
      "features [[ 3.3200e-01  1.9100e-02  2.2200e-01 -2.9569e+01]]\n",
      "results [2]\n",
      "Bellevue by Franz Becker is a SAD song\n",
      "None\n"
     ]
    }
   ],
   "source": [
    "print(predict_mood('6Jl3ZOX6MUOlyoUc721bsX'))\n",
    "print(predict_mood_clf('2Djv53hoQWobBuNHkSKpXC'))"
   ]
  },
  {
   "cell_type": "markdown",
   "metadata": {},
   "source": [
    "### spotify:track:0u2P5u6lvoDfwTYjAADbn4 ###\n",
    "spotify:track:0JP9xo3adEtGSdUEISiszL\n",
    "spotify:track:60nZcImufyMA1MKQY3dcCH\n",
    "spotify:track:0LuVpXVTaWY9Un2w9GkXjf"
   ]
  },
  {
   "cell_type": "code",
   "execution_count": 79,
   "metadata": {},
   "outputs": [
    {
     "name": "stdout",
     "output_type": "stream",
     "text": [
      "features [[  0.346   0.133   0.332 -11.954]]\n",
      "results [0]\n",
      "Mad World by Michael Andrews is a CHILL song\n",
      "None\n"
     ]
    }
   ],
   "source": [
    "print(predict_mood('0LuVpXVTaWY9Un2w9GkXjf'))\n",
    "\n"
   ]
  },
  {
   "cell_type": "code",
   "execution_count": 30,
   "metadata": {},
   "outputs": [
    {
     "name": "stdout",
     "output_type": "stream",
     "text": [
      "features [[ 0.743  0.446  0.278 -7.807]]\n",
      "results [0]\n",
      "Seven Nation Army by The White Stripes is a CHILL song\n",
      "None\n"
     ]
    }
   ],
   "source": [
    "print(predict_mood('3dPQuX8Gs42Y7b454ybpMR')) #Seven Nation's Army"
   ]
  },
  {
   "cell_type": "code",
   "execution_count": 146,
   "metadata": {},
   "outputs": [
    {
     "name": "stdout",
     "output_type": "stream",
     "text": [
      "preds (['When The Sun Goes Down', \"Whatever People Say I Am, That's What I'm Not\", 'Arctic Monkeys', '2zzLRQ78kKfPTx8FJQCdC2', '2006-01-29', 75, 202133, 0.348, 0.0341, 0.875, 0, 0.117, 0.407, -4.758, 0.199, 169.152, 11, 4], ['name', 'album', 'artist', 'id', 'release_date', 'popularity', 'length', 'danceability', 'acousticness', 'energy', 'instrumentalness', 'liveness', 'valence', 'loudness', 'speechiness', 'tempo', 'key', 'time_signature'])\n",
      "features [[ 0.348  0.875  0.407 -4.758]]\n",
      "results [1]\n",
      "When The Sun Goes Down by Arctic Monkeys is a HAPPY song\n",
      "None\n"
     ]
    }
   ],
   "source": [
    "print(predict_mood('2zzLRQ78kKfPTx8FJQCdC2')) #Arctic Monkeys"
   ]
  },
  {
   "cell_type": "code",
   "execution_count": 58,
   "metadata": {},
   "outputs": [],
   "source": [
    "import random"
   ]
  },
  {
   "cell_type": "code",
   "execution_count": 72,
   "metadata": {},
   "outputs": [],
   "source": [
    "def print_result_playlist(df):\n",
    "    i = random.randrange(len(df)-1)\n",
    "    print(f\"{predict_mood(df['id'].values[i])} is sequential prediction\")\n",
    "    print(\"--------------------------------------------------------------\")\n",
    "    print(f\"{predict_mood_clf(df['id'].values[i])} is randomforest prediction\")\n",
    "    print(\"END________________________________________________________END\")\n",
    "    print()"
   ]
  },
  {
   "cell_type": "code",
   "execution_count": 47,
   "metadata": {},
   "outputs": [
    {
     "data": {
      "text/plain": [
       "'7rRYiBxeudiHMNmgptnne9'"
      ]
     },
     "execution_count": 47,
     "metadata": {},
     "output_type": "execute_result"
    }
   ],
   "source": [
    "df['id'].values[1]"
   ]
  },
  {
   "cell_type": "code",
   "execution_count": 73,
   "metadata": {},
   "outputs": [
    {
     "name": "stdout",
     "output_type": "stream",
     "text": [
      "features [[ 0.711  0.412  0.186 -6.827]]\n",
      "results [0]\n",
      "Cold by Boy In Space is a CHILL song\n",
      "None is sequential prediction\n",
      "--------------------------------------------------------------\n",
      "features [[ 0.711  0.412  0.186 -6.827]]\n",
      "results [0]\n",
      "Cold by Boy In Space is a CHILL song\n",
      "None is randomforest prediction\n",
      "END________________________________________________________END\n",
      "\n",
      "features [[ 4.4800e-01  5.0400e-03  3.3000e-01 -2.7869e+01]]\n",
      "results [2]\n",
      "Lilou by Oscar Melone is a SAD song\n",
      "None is sequential prediction\n",
      "--------------------------------------------------------------\n",
      "features [[ 4.4800e-01  5.0400e-03  3.3000e-01 -2.7869e+01]]\n",
      "results [2]\n",
      "Lilou by Oscar Melone is a SAD song\n",
      "None is randomforest prediction\n",
      "END________________________________________________________END\n",
      "\n",
      "features [[ 0.727  0.729  0.512 -2.99 ]]\n",
      "results [1]\n",
      "American Boy by Estelle is a HAPPY song\n",
      "None is sequential prediction\n",
      "--------------------------------------------------------------\n",
      "features [[ 0.727  0.729  0.512 -2.99 ]]\n",
      "results [1]\n",
      "American Boy by Estelle is a HAPPY song\n",
      "None is randomforest prediction\n",
      "END________________________________________________________END\n",
      "\n",
      "features [[ 0.694  0.466  0.246 -6.758]]\n",
      "results [0]\n",
      "Feelings by Lauv is a CHILL song\n",
      "None is sequential prediction\n",
      "--------------------------------------------------------------\n",
      "features [[ 0.694  0.466  0.246 -6.758]]\n",
      "results [0]\n",
      "Feelings by Lauv is a CHILL song\n",
      "None is randomforest prediction\n",
      "END________________________________________________________END\n",
      "\n",
      "features [[ 0.536  0.89   0.273 -5.222]]\n",
      "results [1]\n",
      "The Enemy by Andrew Belle is a HAPPY song\n",
      "None is sequential prediction\n",
      "--------------------------------------------------------------\n",
      "features [[ 0.536  0.89   0.273 -5.222]]\n",
      "results [1]\n",
      "The Enemy by Andrew Belle is a HAPPY song\n",
      "None is randomforest prediction\n",
      "END________________________________________________________END\n",
      "\n",
      "features [[ 0.677  0.401  0.195 -8.467]]\n",
      "results [0]\n",
      "This Town by Niall Horan is a CHILL song\n",
      "None is sequential prediction\n",
      "--------------------------------------------------------------\n",
      "features [[ 0.677  0.401  0.195 -8.467]]\n",
      "results [0]\n",
      "This Town by Niall Horan is a CHILL song\n",
      "None is randomforest prediction\n",
      "END________________________________________________________END\n",
      "\n",
      "features [[ 0.562  0.379  0.258 -7.625]]\n",
      "results [0]\n",
      "It's Ok If You Forget Me by Astrid S is a CHILL song\n",
      "None is sequential prediction\n",
      "--------------------------------------------------------------\n",
      "features [[ 0.562  0.379  0.258 -7.625]]\n",
      "results [0]\n",
      "It's Ok If You Forget Me by Astrid S is a CHILL song\n",
      "None is randomforest prediction\n",
      "END________________________________________________________END\n",
      "\n",
      "features [[  0.492    0.0503   0.215  -19.937 ]]\n",
      "results [2]\n",
      "For Ruby by Dominic Walton is a SAD song\n",
      "None is sequential prediction\n",
      "--------------------------------------------------------------\n",
      "features [[  0.492    0.0503   0.215  -19.937 ]]\n",
      "results [2]\n",
      "For Ruby by Dominic Walton is a SAD song\n",
      "None is randomforest prediction\n",
      "END________________________________________________________END\n",
      "\n",
      "features [[ 0.526  0.749  0.421 -6.964]]\n",
      "results [1]\n",
      "Kiss Me by Sixpence None The Richer is a HAPPY song\n",
      "None is sequential prediction\n",
      "--------------------------------------------------------------\n",
      "features [[ 0.526  0.749  0.421 -6.964]]\n",
      "results [1]\n",
      "Kiss Me by Sixpence None The Richer is a HAPPY song\n",
      "None is randomforest prediction\n",
      "END________________________________________________________END\n",
      "\n",
      "features [[ 0.606  0.799  0.638 -4.452]]\n",
      "results [1]\n",
      "Make You Mine by PUBLIC is a HAPPY song\n",
      "None is sequential prediction\n",
      "--------------------------------------------------------------\n",
      "features [[ 0.606  0.799  0.638 -4.452]]\n",
      "results [1]\n",
      "Make You Mine by PUBLIC is a HAPPY song\n",
      "None is randomforest prediction\n",
      "END________________________________________________________END\n",
      "\n",
      "features [[ 0.667  0.361  0.29  -8.69 ]]\n",
      "results [0]\n",
      "Slow Dancing in a Burning Room by John Mayer is a CHILL song\n",
      "None is sequential prediction\n",
      "--------------------------------------------------------------\n",
      "features [[ 0.667  0.361  0.29  -8.69 ]]\n",
      "results [0]\n",
      "Slow Dancing in a Burning Room by John Mayer is a CHILL song\n",
      "None is randomforest prediction\n",
      "END________________________________________________________END\n",
      "\n",
      "features [[ 0.662  0.413  0.467 -7.357]]\n",
      "results [0]\n",
      "WITHOUT YOU by The Kid LAROI is a CHILL song\n",
      "None is sequential prediction\n",
      "--------------------------------------------------------------\n",
      "features [[ 0.662  0.413  0.467 -7.357]]\n",
      "results [1]\n",
      "WITHOUT YOU by The Kid LAROI is a HAPPY song\n",
      "None is randomforest prediction\n",
      "END________________________________________________________END\n",
      "\n",
      "features [[  0.215   0.263   0.307 -14.416]]\n",
      "results [0]\n",
      "Funeral by Phoebe Bridgers is a CHILL song\n",
      "None is sequential prediction\n",
      "--------------------------------------------------------------\n",
      "features [[  0.215   0.263   0.307 -14.416]]\n",
      "results [0]\n",
      "Funeral by Phoebe Bridgers is a CHILL song\n",
      "None is randomforest prediction\n",
      "END________________________________________________________END\n",
      "\n",
      "features [[  0.494   0.267   0.166 -11.54 ]]\n",
      "results [0]\n",
      "Cursive by Billie Marten is a CHILL song\n",
      "None is sequential prediction\n",
      "--------------------------------------------------------------\n",
      "features [[  0.494   0.267   0.166 -11.54 ]]\n",
      "results [0]\n",
      "Cursive by Billie Marten is a CHILL song\n",
      "None is randomforest prediction\n",
      "END________________________________________________________END\n",
      "\n",
      "features [[ 0.38    0.339   0.0849 -7.885 ]]\n",
      "results [0]\n",
      "traitor by Olivia Rodrigo is a CHILL song\n",
      "None is sequential prediction\n",
      "--------------------------------------------------------------\n",
      "features [[ 0.38    0.339   0.0849 -7.885 ]]\n",
      "results [0]\n",
      "traitor by Olivia Rodrigo is a CHILL song\n",
      "None is randomforest prediction\n",
      "END________________________________________________________END\n",
      "\n",
      "features [[ 0.662  0.253  0.333 -9.975]]\n",
      "results [0]\n",
      "Queen of Paisley by Silas Short is a CHILL song\n",
      "None is sequential prediction\n",
      "--------------------------------------------------------------\n",
      "features [[ 0.662  0.253  0.333 -9.975]]\n",
      "results [0]\n",
      "Queen of Paisley by Silas Short is a CHILL song\n",
      "None is randomforest prediction\n",
      "END________________________________________________________END\n",
      "\n",
      "features [[ 0.6    0.314  0.201 -9.109]]\n",
      "results [0]\n",
      "Tides by Bonobo is a CHILL song\n",
      "None is sequential prediction\n",
      "--------------------------------------------------------------\n",
      "features [[ 0.6    0.314  0.201 -9.109]]\n",
      "results [0]\n",
      "Tides by Bonobo is a CHILL song\n",
      "None is randomforest prediction\n",
      "END________________________________________________________END\n",
      "\n",
      "features [[  0.494   0.17    0.145 -11.368]]\n",
      "results [0]\n",
      "Close To You by Rihanna is a CHILL song\n",
      "None is sequential prediction\n",
      "--------------------------------------------------------------\n",
      "features [[  0.494   0.17    0.145 -11.368]]\n",
      "results [0]\n",
      "Close To You by Rihanna is a CHILL song\n",
      "None is randomforest prediction\n",
      "END________________________________________________________END\n",
      "\n",
      "features [[  0.664   0.316   0.541 -10.345]]\n",
      "results [0]\n",
      "I Forgot That You Existed by Taylor Swift is a CHILL song\n",
      "None is sequential prediction\n",
      "--------------------------------------------------------------\n",
      "features [[  0.664   0.316   0.541 -10.345]]\n",
      "results [0]\n",
      "I Forgot That You Existed by Taylor Swift is a CHILL song\n",
      "None is randomforest prediction\n",
      "END________________________________________________________END\n",
      "\n",
      "features [[  0.589   0.242   0.257 -10.517]]\n",
      "results [0]\n",
      "Supermarket Flowers by Ed Sheeran is a CHILL song\n",
      "None is sequential prediction\n",
      "--------------------------------------------------------------\n",
      "features [[  0.589   0.242   0.257 -10.517]]\n",
      "results [0]\n",
      "Supermarket Flowers by Ed Sheeran is a CHILL song\n",
      "None is randomforest prediction\n",
      "END________________________________________________________END\n",
      "\n"
     ]
    }
   ],
   "source": [
    "#run this loop and change the range so we can compare if the songs emotions are similar or not!\n",
    "for i in range(20):\n",
    "    print_result_playlist(df)"
   ]
  },
  {
   "cell_type": "code",
   "execution_count": null,
   "metadata": {},
   "outputs": [],
   "source": []
  }
 ],
 "metadata": {
  "kernelspec": {
   "display_name": "Python 3",
   "language": "python",
   "name": "python3"
  },
  "language_info": {
   "codemirror_mode": {
    "name": "ipython",
    "version": 3
   },
   "file_extension": ".py",
   "mimetype": "text/x-python",
   "name": "python",
   "nbconvert_exporter": "python",
   "pygments_lexer": "ipython3",
   "version": "3.8.8"
  }
 },
 "nbformat": 4,
 "nbformat_minor": 4
}
