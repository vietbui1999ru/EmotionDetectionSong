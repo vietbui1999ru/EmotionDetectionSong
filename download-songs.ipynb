{
 "cells": [
  {
   "cell_type": "code",
   "execution_count": 1,
   "metadata": {
    "pycharm": {
     "name": "#%%\n"
    }
   },
   "outputs": [],
   "source": [
    "from  helpers import *\n",
    "import spotipy\n",
    "from spotipy import SpotifyClientCredentials, util\n",
    "from IPython.core.display import clear_output\n",
    "\n",
    "import pandas as pd \n",
    "import pandasql as ps \n",
    "import time\n",
    "import sqlite3\n"
   ]
  },
  {
   "cell_type": "code",
   "execution_count": 2,
   "metadata": {
    "tags": []
   },
   "outputs": [],
   "source": [
    "\"\"\"\n",
    "NEW SELF-MADE METHOD\n",
    "\"\"\"\n",
    "def down_tracks(string):\n",
    "    tracks,columns = download_playlist(string, 100)\n",
    "##If the id is for artist, you must specify True to the artist parameter\n",
    "#tracks,columns = download_albums('id_of_the_artist_or_the_album',artist=False)\n",
    "    df = pd.DataFrame(tracks,columns=columns)\n",
    "    df.head()\n",
    "    return df"
   ]
  },
  {
   "cell_type": "markdown",
   "metadata": {},
   "source": [
    "The order of the playlists I used for this project are:\n",
    "- Chill playlists:\n",
    "    - Coffee and Piano:https://open.spotify.com/playlist/37i9dQZF1DX3TPMgP3ojGS?si=dd2dc4d8da98467a\n",
    "    - Chill Vibes: https://open.spotify.com/playlist/37i9dQZF1DX889U0CL85jj?si=af067c1d50884390\n",
    "    - Chill Hits: https://open.spotify.com/playlist/37i9dQZF1DX4WYpdgoIcn6?si=37df6eb1a90448a9\n",
    "- Happy/pop playlists:\n",
    "    - Songs to sing in the shower: https://open.spotify.com/playlist/37i9dQZF1DWSqmBTGDYngZ?si=5e1577a70ea149bd\n",
    "    - Mood Booster: https://open.spotify.com/playlist/37i9dQZF1DX3rxVfibe1L0?si=a97d864fb54e45b6\n",
    "    - Confidence Boost: https://open.spotify.com/playlist/37i9dQZF1DX4fpCWaHOned?si=ae2cb416994c4e15\n",
    "- Sad playlists:\n",
    "    - Alone Again: https://open.spotify.com/playlist/37i9dQZF1DWX83CujKHHOn?si=63faf68348ae4512\n",
    "    - Broken Heart: spotify:playlist:37i9dQZF1DXbrUpGvoi3TS\n",
    "    - Life Sucks: https://open.spotify.com/playlist/37i9dQZF1DX3YSRoSdA634?si=2a3e70d54b8e4c99"
   ]
  },
  {
   "cell_type": "code",
   "execution_count": 3,
   "metadata": {},
   "outputs": [],
   "source": [
    "a = [\"spotify:playlist:37i9dQZF1DX3TPMgP3ojGS\", \n",
    "     \"spotify:playlist:37i9dQZF1DX889U0CL85jj\",\n",
    "    \"spotify:playlist:37i9dQZF1DX4WYpdgoIcn6\",\n",
    "    \"spotify:playlist:37i9dQZF1DWSqmBTGDYngZ\",\n",
    "    \"spotify:playlist:37i9dQZF1DX3rxVfibe1L0\",\n",
    "    \"spotify:playlist:37i9dQZF1DX4fpCWaHOned\",\n",
    "    \"spotify:playlist:37i9dQZF1DWX83CujKHHOn\",\n",
    "    \"spotify:playlist:37i9dQZF1DXbrUpGvoi3TS\",\n",
    "    \"spotify:playlist:37i9dQZF1DX3YSRoSdA634\"]"
   ]
  },
  {
   "cell_type": "markdown",
   "metadata": {},
   "source": [
    "Executing the line below will download all the data about the songs and put them into a 'data' folder"
   ]
  },
  {
   "cell_type": "code",
   "execution_count": 1,
   "metadata": {
    "tags": []
   },
   "outputs": [],
   "source": [
    "\"\"\"\n",
    "NEW PERSONAL METHOD\n",
    "\"\"\"\n",
    "def execute():\n",
    "    count = 0\n",
    "    for i in a:\n",
    "        df = down_tracks(i)\n",
    "        df.to_csv(f'data/df{count}.csv',index=False)\n",
    "        count+=1"
   ]
  },
  {
   "cell_type": "code",
   "execution_count": null,
   "metadata": {},
   "outputs": [],
   "source": [
    "execute()"
   ]
  },
  {
   "cell_type": "code",
   "execution_count": null,
   "metadata": {},
   "outputs": [],
   "source": []
  }
 ],
 "metadata": {
  "kernelspec": {
   "display_name": "Python 3",
   "language": "python",
   "name": "python3"
  },
  "language_info": {
   "codemirror_mode": {
    "name": "ipython",
    "version": 3
   },
   "file_extension": ".py",
   "mimetype": "text/x-python",
   "name": "python",
   "nbconvert_exporter": "python",
   "pygments_lexer": "ipython3",
   "version": "3.8.8"
  }
 },
 "nbformat": 4,
 "nbformat_minor": 4
}
