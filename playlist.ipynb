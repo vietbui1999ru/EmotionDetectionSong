{
 "cells": [
  {
   "cell_type": "code",
   "execution_count": 2,
   "metadata": {},
   "outputs": [],
   "source": [
    "%run helpers.py"
   ]
  },
  {
   "cell_type": "code",
   "execution_count": 42,
   "metadata": {},
   "outputs": [],
   "source": [
    "from  helpers import * #maybe or maybe not used\n",
    "import spotipy\n",
    "from spotipy import SpotifyClientCredentials, util\n",
    "import pandas as pd\n",
    "import time "
   ]
  },
  {
   "cell_type": "markdown",
   "metadata": {},
   "source": [
    "We import songs from our datasets and export them to user-generated music playlists."
   ]
  },
  {
   "cell_type": "code",
   "execution_count": 19,
   "metadata": {
    "tags": []
   },
   "outputs": [],
   "source": [
    "client_id='a191959864a749c1bcf5e67c9aeb3880'\n",
    "client_secret='6a969123034245e68d144be6c84db87f'\n",
    "redirect_uri='http://localhost:1999/'\n",
    "\n",
    "username = '21zfnefkptclwec56htel2eei'\n",
    "scope_playlist = 'playlist-modify-public'\n",
    "scope_user = 'user-library-modify'\n",
    "scope_read = 'user-library-read'\n",
    "scope_playing = 'user-read-currently-playing'\n",
    "\n",
    "#Credentials to access the Spotify Music Data\n",
    "manager = SpotifyClientCredentials(client_id,client_secret)\n",
    "sp = spotipy.Spotify(client_credentials_manager=manager)\n",
    "\n",
    "#Credentials to access the actual song played\n",
    "token_actual = util.prompt_for_user_token(username,scope_playing,client_id,client_secret,redirect_uri) \n",
    "sp_actual = spotipy.Spotify(auth=token_actual)\n",
    "\n",
    "#Credentials to access the library music \n",
    "token_user= util.prompt_for_user_token(username,scope_user,client_id,client_secret,redirect_uri) \n",
    "sp_user = spotipy.Spotify(auth=token_user)\n",
    "\n",
    "#Credentials to access the Playlists Music\n",
    "token_playlist= util.prompt_for_user_token(username,scope_playlist,client_id,client_secret,redirect_uri) \n",
    "sp_playlist = spotipy.Spotify(auth=token_playlist)\n",
    "\n",
    "token_read = util.prompt_for_user_token(username, scope_read, client_id, client_secret, redirect_uri)\n",
    "sp_read = spotipy.Spotify(auth=token_read)"
   ]
  },
  {
   "cell_type": "code",
   "execution_count": 21,
   "metadata": {},
   "outputs": [],
   "source": [
    "cluster_chill = pd.read_csv(\"data/cluster_chill.csv\")\n",
    "cluster_happy = pd.read_csv(\"data/cluster_happy.csv\")\n",
    "cluster_sad = pd.read_csv(\"data/cluster_sad.csv\")\n",
    "\n",
    "ids_chill = cluster_chill['id'].tolist()\n",
    "ids_happy = cluster_happy['id'].tolist()\n",
    "ids_sad = cluster_sad['id'].tolist()\n"
   ]
  },
  {
   "cell_type": "code",
   "execution_count": 41,
   "metadata": {},
   "outputs": [],
   "source": [
    "df = pd.concat([ cluster_chill,cluster_happy, cluster_sad])\n",
    "df.to_csv(\"data/data_moods.csv\", index=False)"
   ]
  },
  {
   "cell_type": "code",
   "execution_count": 36,
   "metadata": {
    "tags": []
   },
   "outputs": [],
   "source": [
    "\n",
    "# Run once\n",
    "playlist_happy = sp_playlist.user_playlist_create(username,\"Happy :> (version 2)\")\n",
    "playlist_chill = sp_playlist.user_playlist_create(username,\"Chill :| (version 2)\")\n",
    "playlist_sad = sp_playlist.user_playlist_create(username,\"Sad :< (version 2)\")"
   ]
  },
  {
   "cell_type": "code",
   "execution_count": 37,
   "metadata": {},
   "outputs": [],
   "source": [
    "a = [\"spotify:playlist:1tBREvEV2ASkR7wQ8yFx6m\", \"spotify:playlist:0GgCdVAEoPeWzDDNnbq1aq\", \n",
    "    \"spotify:playlist:0lZn7yxPi3E6Uvyg4EyjgY\"]"
   ]
  },
  {
   "cell_type": "code",
   "execution_count": 38,
   "metadata": {},
   "outputs": [],
   "source": [
    "b = [ids_chill, ids_happy, ids_sad]"
   ]
  },
  {
   "cell_type": "markdown",
   "metadata": {},
   "source": [
    "Run the below code to finish creating your own playlists!"
   ]
  },
  {
   "cell_type": "code",
   "execution_count": 39,
   "metadata": {},
   "outputs": [],
   "source": [
    "def import_tracks(): \n",
    "    for i in range(len(a)):\n",
    "        tracks = b[i]\n",
    "        #sp_playlist.user_playlist_add_tracks(username,a[i][:99], b[i])\n",
    "        playlist = a[i]\n",
    "        #get_playlist_tracks(username, a[i], b[i])\n",
    "    \n",
    "        #loop to add 100 songs at a time\n",
    "        while tracks:\n",
    "            results = sp_playlist.user_playlist_add_tracks(username, playlist, tracks[:100], position=None)\n",
    "            tracks = tracks[100:]"
   ]
  },
  {
   "cell_type": "code",
   "execution_count": 40,
   "metadata": {},
   "outputs": [],
   "source": [
    "import_tracks()"
   ]
  },
  {
   "cell_type": "code",
   "execution_count": null,
   "metadata": {},
   "outputs": [],
   "source": []
  }
 ],
 "metadata": {
  "kernelspec": {
   "display_name": "Python 3",
   "language": "python",
   "name": "python3"
  },
  "language_info": {
   "codemirror_mode": {
    "name": "ipython",
    "version": 3
   },
   "file_extension": ".py",
   "mimetype": "text/x-python",
   "name": "python",
   "nbconvert_exporter": "python",
   "pygments_lexer": "ipython3",
   "version": "3.8.8"
  }
 },
 "nbformat": 4,
 "nbformat_minor": 4
}